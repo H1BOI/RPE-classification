{
 "cells": [
  {
   "cell_type": "code",
   "execution_count": 292,
   "id": "4e4e4247-dc14-430a-b941-9541c9b0aba6",
   "metadata": {},
   "outputs": [],
   "source": [
    "import pandas as pd\n",
    "import os\n",
    "\n",
    "import numpy as np\n",
    "import matplotlib.pyplot as plt\n",
    "\n",
    "from scipy.ndimage import rotate\n",
    "from data_preprocessing import RPEDataset\n",
    "from torchvision import transforms\n",
    "from torch.utils.data import DataLoader, ConcatDataset"
   ]
  },
  {
   "cell_type": "code",
   "execution_count": 293,
   "id": "5d4b83b5-d904-442f-9fd6-a5614dce5d8a",
   "metadata": {},
   "outputs": [],
   "source": [
    "original_transform = transforms.Compose([\n",
    "    transforms.ToPILImage(),\n",
    "    transforms.Resize((149,149)),\n",
    "    transforms.Compose([transforms.ToTensor(), torch.flatten])\n",
    "])\n",
    "\n",
    "cropped_transform = transforms.Compose([\n",
    "    transforms.ToPILImage(),\n",
    "    transforms.RandomResizedCrop((149, 149)),\n",
    "    transforms.RandomHorizontalFlip(p=0.5),\n",
    "    transforms.Compose([transforms.ToTensor(), torch.flatten])\n",
    "])"
   ]
  },
  {
   "cell_type": "code",
   "execution_count": 294,
   "id": "a963680d-08e3-4eaf-b891-2726b4c0659e",
   "metadata": {},
   "outputs": [],
   "source": [
    "rpe30 = RPEDataset(30, transform=original_transform)\n",
    "rpe30_1 = RPEDataset(30, transform=cropped_transform)\n",
    "rpe30_2 = RPEDataset(30, transform=cropped_transform)\n",
    "rpe30_3 = RPEDataset(30, transform=cropped_transform)\n",
    "rpe30_4 = RPEDataset(30, transform=cropped_transform)\n",
    "rpe30_5 = RPEDataset(30, transform=cropped_transform)\n",
    "rpe30_6 = RPEDataset(30, transform=cropped_transform)\n",
    "rpe30_7 = RPEDataset(30, transform=cropped_transform)\n",
    "rpe30_8 = RPEDataset(30, transform=cropped_transform)\n",
    "rpe30_9 = RPEDataset(30, transform=cropped_transform)\n",
    "rpe30_10 = RPEDataset(30, transform=cropped_transform)\n",
    "\n",
    "rpe30set = ConcatDataset([rpe30, \n",
    "                          rpe30_1,\n",
    "                          rpe30_2,\n",
    "                          rpe30_3,\n",
    "                          rpe30_4,\n",
    "                          rpe30_5,\n",
    "                          rpe30_6,\n",
    "                          rpe30_7,\n",
    "                          rpe30_8,\n",
    "                          rpe30_9,\n",
    "                          rpe30_10])"
   ]
  },
  {
   "cell_type": "code",
   "execution_count": 295,
   "id": "6c56419e-b4f4-4819-aa6e-fd784ac73a75",
   "metadata": {},
   "outputs": [],
   "source": [
    "rpe45 = RPEDataset(45, transform=original_transform)\n",
    "rpe45_1 = RPEDataset(45, transform=cropped_transform)\n",
    "rpe45_2 = RPEDataset(45, transform=cropped_transform)\n",
    "rpe45_3 = RPEDataset(45, transform=cropped_transform)\n",
    "rpe45_4 = RPEDataset(45, transform=cropped_transform)\n",
    "\n",
    "rpe45set = ConcatDataset([rpe45,\n",
    "                          rpe45_1,\n",
    "                          rpe45_2,\n",
    "                          rpe45_3,\n",
    "                          rpe45_4])"
   ]
  },
  {
   "cell_type": "code",
   "execution_count": 296,
   "id": "ed1b94d1-9b4a-4efd-9660-851352734d53",
   "metadata": {},
   "outputs": [],
   "source": [
    "rpe60 = RPEDataset(60, transform=original_transform)\n",
    "rpe60_1 = RPEDataset(60, transform=cropped_transform)\n",
    "rpe60_2 = RPEDataset(60, transform=cropped_transform)\n",
    "rpe60_3 = RPEDataset(60, transform=cropped_transform)\n",
    "\n",
    "rpe60set = ConcatDataset([rpe60,\n",
    "                         rpe60_1,\n",
    "                         rpe60_2,\n",
    "                         rpe60_3])"
   ]
  },
  {
   "cell_type": "code",
   "execution_count": 297,
   "id": "3c2f4c76-561b-480f-957e-99a5e54cd42c",
   "metadata": {},
   "outputs": [],
   "source": [
    "rpe180set = RPEDataset(180, transform=original_transform)"
   ]
  },
  {
   "cell_type": "code",
   "execution_count": 298,
   "id": "08187a09-4ef9-4e66-bdd2-d7607f348f1b",
   "metadata": {},
   "outputs": [],
   "source": [
    "rpe330 = RPEDataset(330, transform=original_transform)\n",
    "rpe330_1 = RPEDataset(330, transform=cropped_transform)\n",
    "rpe330_2 = RPEDataset(330, transform=cropped_transform)\n",
    "\n",
    "rpe330set = ConcatDataset([rpe330,\n",
    "                           rpe330_1,\n",
    "                           rpe330_2])"
   ]
  },
  {
   "cell_type": "code",
   "execution_count": 299,
   "id": "a81b68c4-050f-4743-8b73-d69fc35b3136",
   "metadata": {},
   "outputs": [],
   "source": [
    "rpe720 = RPEDataset(720, transform=original_transform)\n",
    "rpe720_1 = RPEDataset(720, transform=cropped_transform)\n",
    "rpe720_2 = RPEDataset(720, transform=cropped_transform)\n",
    "rpe720_3 = RPEDataset(720, transform=cropped_transform)\n",
    "rpe720_4 = RPEDataset(720, transform=cropped_transform)\n",
    "rpe720_5 = RPEDataset(720, transform=cropped_transform)\n",
    "rpe720_6 = RPEDataset(720, transform=cropped_transform)\n",
    "\n",
    "rpe720set = ConcatDataset([rpe720,\n",
    "                           rpe720_1,\n",
    "                           rpe720_2,\n",
    "                           rpe720_3,\n",
    "                           rpe720_4,\n",
    "                           rpe720_5,\n",
    "                           rpe720_6])"
   ]
  },
  {
   "cell_type": "code",
   "execution_count": 300,
   "id": "3c38962e-a9d7-4eea-a4ef-2c0c26cffbe8",
   "metadata": {},
   "outputs": [],
   "source": [
    "full_dataset = ConcatDataset([rpe30set,\n",
    "                              rpe45set,\n",
    "                              rpe60set,\n",
    "                              rpe180set,\n",
    "                              rpe330set,\n",
    "                              rpe720set])"
   ]
  },
  {
   "cell_type": "code",
   "execution_count": 310,
   "id": "8ba9bfa8-29d2-4885-b8f7-4911c6da99d3",
   "metadata": {},
   "outputs": [],
   "source": [
    "train_size = int(0.8 * len(full_dataset))\n",
    "test_size = len(full_dataset) - train_size\n",
    "train_dataset, test_dataset = torch.utils.data.random_split(full_dataset, [train_size, test_size])"
   ]
  },
  {
   "cell_type": "code",
   "execution_count": 311,
   "id": "1c5a1e44-405e-4cef-aee3-3ca3c32b53b2",
   "metadata": {},
   "outputs": [],
   "source": [
    "train_loader = DataLoader(train_dataset, batch_size=64, shuffle=True)\n",
    "test_loader = DataLoader(test_dataset, batch_size=64, shuffle=False)"
   ]
  },
  {
   "cell_type": "code",
   "execution_count": 312,
   "id": "0216a6bb-67f6-41fa-8aa6-2d80fe708e96",
   "metadata": {},
   "outputs": [],
   "source": [
    "x_train = []\n",
    "y_train = []\n",
    "for data, labels in train_loader:\n",
    "    x_train.append(data.numpy())\n",
    "    y_train.append(labels.numpy())\n",
    "\n",
    "x_train = np.concatenate(x_train, axis=0)\n",
    "y_train = np.concatenate(y_train, axis=0)"
   ]
  },
  {
   "cell_type": "code",
   "execution_count": 313,
   "id": "1770d401-fd2b-4c4b-868c-ab86a796e4bc",
   "metadata": {},
   "outputs": [],
   "source": [
    "x_test = []\n",
    "y_test = []\n",
    "for data, labels in test_loader:\n",
    "    x_test.append(data.numpy())\n",
    "    y_test.append(labels.numpy())\n",
    "\n",
    "x_test = np.concatenate(x_test, axis=0)\n",
    "y_test = np.concatenate(y_test, axis=0)"
   ]
  },
  {
   "cell_type": "code",
   "execution_count": 314,
   "id": "3e076e9a-5d20-42ff-b383-91302d2a64fb",
   "metadata": {},
   "outputs": [],
   "source": [
    "from sklearn import svm\n",
    "model=svm.SVC(C=100, gamma=0.0001)"
   ]
  },
  {
   "cell_type": "code",
   "execution_count": 315,
   "id": "36c6a215-977c-43f7-a4e9-b0fdaab0298d",
   "metadata": {},
   "outputs": [
    {
     "name": "stdout",
     "output_type": "stream",
     "text": [
      "Training Started\n",
      "Training Finished\n"
     ]
    }
   ],
   "source": [
    "print('Training Started')\n",
    "model.fit(x_train,y_train)\n",
    "print('Training Finished')"
   ]
  },
  {
   "cell_type": "code",
   "execution_count": 316,
   "id": "df9eb1d9-d8ee-4123-9c91-ccae8f527be2",
   "metadata": {},
   "outputs": [
    {
     "name": "stdout",
     "output_type": "stream",
     "text": [
      "The model is 73.0964% accurate\n",
      "               precision    recall  f1-score   support\n",
      "\n",
      " 30_day_crops       0.71      0.79      0.75        34\n",
      " 45_day_crops       0.78      0.86      0.82        21\n",
      " 60_day_crops       0.52      0.43      0.47        35\n",
      "180_day_crops       0.85      0.94      0.89        35\n",
      "330_day_crops       0.81      0.79      0.80        43\n",
      "720_day_crops       0.65      0.59      0.62        29\n",
      "\n",
      "     accuracy                           0.73       197\n",
      "    macro avg       0.72      0.73      0.72       197\n",
      " weighted avg       0.72      0.73      0.72       197\n",
      "\n"
     ]
    }
   ],
   "source": [
    "from sklearn.metrics import accuracy_score, classification_report\n",
    "\n",
    "y_pred=model.predict(x_test)\n",
    "print(f\"The model is {accuracy_score(y_pred,y_test)*100:.4f}% accurate\")\n",
    "print(classification_report(y_test, y_pred, target_names=ages, zero_division=0))"
   ]
  },
  {
   "cell_type": "code",
   "execution_count": null,
   "id": "7ba7c23d-1fa8-48da-aac1-8ce2b14ec718",
   "metadata": {
    "scrolled": true
   },
   "outputs": [
    {
     "data": {
      "text/plain": [
       "<sklearn.metrics._plot.confusion_matrix.ConfusionMatrixDisplay at 0x25985d25b50>"
      ]
     },
     "execution_count": 319,
     "metadata": {},
     "output_type": "execute_result"
    }
   ],
   "source": [
    "from sklearn.metrics import confusion_matrix, ConfusionMatrixDisplay\n",
    "\n",
    "cm = confusion_matrix(y_test, y_pred)\n",
    "disp = ConfusionMatrixDisplay(cm)\n",
    "disp.plot()"
   ]
  },
  {
   "cell_type": "code",
   "execution_count": 133,
   "id": "da250f32-c8aa-4a0c-aa37-8a715a492314",
   "metadata": {},
   "outputs": [
    {
     "data": {
      "text/plain": [
       "['RPE_svm_model.pkl']"
      ]
     },
     "execution_count": 133,
     "metadata": {},
     "output_type": "execute_result"
    }
   ],
   "source": [
    "# saving a particular case of a model\n",
    "import joblib\n",
    "\n",
    "joblib.dump(model, 'RPE_svm_model.pkl')"
   ]
  },
  {
   "cell_type": "code",
   "execution_count": 134,
   "id": "6b3a9fc6-3e33-4f43-ba2c-a883c3b4ff65",
   "metadata": {},
   "outputs": [],
   "source": [
    "# loading a model via joblib\n",
    "\n",
    "rpe_svm = joblib.load('RPE_svm_model.pkl')"
   ]
  }
 ],
 "metadata": {
  "kernelspec": {
   "display_name": "Python 3 (ipykernel)",
   "language": "python",
   "name": "python3"
  },
  "language_info": {
   "codemirror_mode": {
    "name": "ipython",
    "version": 3
   },
   "file_extension": ".py",
   "mimetype": "text/x-python",
   "name": "python",
   "nbconvert_exporter": "python",
   "pygments_lexer": "ipython3",
   "version": "3.11.9"
  }
 },
 "nbformat": 4,
 "nbformat_minor": 5
}
