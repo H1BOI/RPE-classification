{
 "cells": [
  {
   "cell_type": "code",
<<<<<<< HEAD
   "execution_count": 1,
=======
   "execution_count": 292,
>>>>>>> dfc7ce3459e48bbcb0e316bb3e746f1c5c40786b
   "id": "4e4e4247-dc14-430a-b941-9541c9b0aba6",
   "metadata": {},
   "outputs": [],
   "source": [
<<<<<<< HEAD
    "from torch.utils.data import ConcatDataset\n",
    "from torchvision import transforms\n",
    "from data_preprocessing import RPEDataset\n",
    "import numpy as np\n",
    "import matplotlib.pyplot as plt"
=======
    "import pandas as pd\n",
    "import os\n",
    "\n",
    "import numpy as np\n",
    "import matplotlib.pyplot as plt\n",
    "\n",
    "from scipy.ndimage import rotate\n",
    "from data_preprocessing import RPEDataset\n",
    "from torchvision import transforms\n",
    "from torch.utils.data import DataLoader, ConcatDataset"
>>>>>>> dfc7ce3459e48bbcb0e316bb3e746f1c5c40786b
   ]
  },
  {
   "cell_type": "code",
<<<<<<< HEAD
   "execution_count": 2,
   "id": "79da267d",
=======
   "execution_count": 293,
   "id": "5d4b83b5-d904-442f-9fd6-a5614dce5d8a",
>>>>>>> dfc7ce3459e48bbcb0e316bb3e746f1c5c40786b
   "metadata": {},
   "outputs": [],
   "source": [
    "original_transform = transforms.Compose([\n",
    "    transforms.ToPILImage(),\n",
    "    transforms.Resize((149,149)),\n",
<<<<<<< HEAD
    "    transforms.ToTensor(),\n",
    "    transforms.Normalize([0.5]*3, [0.5]*3)\n",
=======
    "    transforms.Compose([transforms.ToTensor(), torch.flatten])\n",
>>>>>>> dfc7ce3459e48bbcb0e316bb3e746f1c5c40786b
    "])\n",
    "\n",
    "cropped_transform = transforms.Compose([\n",
    "    transforms.ToPILImage(),\n",
    "    transforms.RandomResizedCrop((149, 149)),\n",
    "    transforms.RandomHorizontalFlip(p=0.5),\n",
<<<<<<< HEAD
    "    transforms.ToTensor(),\n",
    "    transforms.Normalize([0.5]*3, [0.5]*3)\n",
=======
    "    transforms.Compose([transforms.ToTensor(), torch.flatten])\n",
>>>>>>> dfc7ce3459e48bbcb0e316bb3e746f1c5c40786b
    "])"
   ]
  },
  {
   "cell_type": "code",
<<<<<<< HEAD
   "execution_count": 3,
   "id": "74284371",
   "metadata": {},
   "outputs": [],
   "source": [
    "rpe30 = RPEDataset(30, transform=original_transform)\n",
    "rpe30_1 = RPEDataset(30, transform=cropped_transform)\n",
    "rpe30_2 = RPEDataset(30, transform=cropped_transform)\n",
    "rpe30_3 = RPEDataset(30, transform=cropped_transform)\n",
    "rpe30_4 = RPEDataset(30, transform=cropped_transform)\n",
    "rpe30_5 = RPEDataset(30, transform=cropped_transform)\n",
    "rpe30_6 = RPEDataset(30, transform=cropped_transform)\n",
    "rpe30_7 = RPEDataset(30, transform=cropped_transform)\n",
    "rpe30_8 = RPEDataset(30, transform=cropped_transform)\n",
    "rpe30_9 = RPEDataset(30, transform=cropped_transform)\n",
    "rpe30_10 = RPEDataset(30, transform=cropped_transform)\n",
    "\n",
    "rpe30set = ConcatDataset([rpe30, \n",
    "                          rpe30_1,\n",
    "                          rpe30_2,\n",
    "                          rpe30_3,\n",
    "                          rpe30_4,\n",
    "                          rpe30_5,\n",
    "                          rpe30_6,\n",
    "                          rpe30_7,\n",
    "                          rpe30_8,\n",
    "                          rpe30_9,\n",
    "                          rpe30_10])"
   ]
  },
  {
   "cell_type": "code",
   "execution_count": 4,
   "id": "14533bf9",
   "metadata": {},
   "outputs": [],
   "source": [
    "rpe45 = RPEDataset(45, transform=original_transform)\n",
    "rpe45_1 = RPEDataset(45, transform=cropped_transform)\n",
    "rpe45_2 = RPEDataset(45, transform=cropped_transform)\n",
    "rpe45_3 = RPEDataset(45, transform=cropped_transform)\n",
    "rpe45_4 = RPEDataset(45, transform=cropped_transform)\n",
    "\n",
    "rpe45set = ConcatDataset([rpe45,\n",
    "                          rpe45_1,\n",
    "                          rpe45_2,\n",
    "                          rpe45_3,\n",
    "                          rpe45_4])"
   ]
  },
  {
   "cell_type": "code",
   "execution_count": 5,
   "id": "1abbcf9d",
   "metadata": {},
   "outputs": [],
   "source": [
    "rpe60 = RPEDataset(60, transform=original_transform)\n",
    "rpe60_1 = RPEDataset(60, transform=cropped_transform)\n",
    "rpe60_2 = RPEDataset(60, transform=cropped_transform)\n",
    "rpe60_3 = RPEDataset(60, transform=cropped_transform)\n",
    "\n",
    "rpe60set = ConcatDataset([rpe60,\n",
    "                         rpe60_1,\n",
    "                         rpe60_2,\n",
    "                         rpe60_3])"
   ]
  },
  {
   "cell_type": "code",
   "execution_count": 9,
   "id": "022bfb59",
   "metadata": {},
   "outputs": [],
   "source": [
    "rpe180set = RPEDataset(180, transform=original_transform)"
   ]
  },
  {
   "cell_type": "code",
   "execution_count": 6,
   "id": "bb719f3b",
   "metadata": {},
   "outputs": [],
   "source": [
    "rpe330 = RPEDataset(330, transform=original_transform)\n",
    "rpe330_1 = RPEDataset(330, transform=cropped_transform)\n",
    "rpe330_2 = RPEDataset(330, transform=cropped_transform)\n",
    "\n",
    "rpe330set = ConcatDataset([rpe330,\n",
    "                           rpe330_1,\n",
    "                           rpe330_2])"
   ]
  },
  {
   "cell_type": "code",
   "execution_count": 7,
   "id": "5547059f",
   "metadata": {},
   "outputs": [],
   "source": [
    "rpe720 = RPEDataset(720, transform=original_transform)\n",
    "rpe720_1 = RPEDataset(720, transform=cropped_transform)\n",
    "rpe720_2 = RPEDataset(720, transform=cropped_transform)\n",
    "rpe720_3 = RPEDataset(720, transform=cropped_transform)\n",
    "rpe720_4 = RPEDataset(720, transform=cropped_transform)\n",
    "rpe720_5 = RPEDataset(720, transform=cropped_transform)\n",
    "rpe720_6 = RPEDataset(720, transform=cropped_transform)\n",
    "\n",
    "rpe720set = ConcatDataset([rpe720,\n",
    "                           rpe720_1,\n",
    "                           rpe720_2,\n",
    "                           rpe720_3,\n",
    "                           rpe720_4,\n",
    "                           rpe720_5,\n",
    "                           rpe720_6])"
   ]
  },
  {
   "cell_type": "code",
   "execution_count": 10,
   "id": "89dc7572",
   "metadata": {},
   "outputs": [],
   "source": [
    "full_dataset = ConcatDataset([rpe30set,\n",
    "                              rpe45set,\n",
    "                              rpe60set,\n",
    "                              rpe180set,\n",
    "                              rpe330set,\n",
    "                              rpe720set])"
   ]
  },
  {
   "cell_type": "code",
   "execution_count": 109,
   "id": "e1f9c288-7014-4fa1-b722-bd632ed84f46",
   "metadata": {},
   "outputs": [
    {
     "data": {
      "image/png": "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",
      "text/plain": [
       "<Figure size 640x480 with 1 Axes>"
      ]
     },
     "metadata": {},
     "output_type": "display_data"
    }
   ],
   "source": [
    "# displaying distribution of samples post-augmenting\n",
    "def add_labels(x, y):\n",
    "    for i in range(len(x)):\n",
    "        plt.text(i, y[i], y[i], ha='center')\n",
    "\n",
    "emp = []\n",
    "for img, label in full_dataset:\n",
    "    emp.append(label)\n",
    "\n",
    "height = [emp.count(i) for i in range(6)]\n",
    "age = ['30day', '45day', '60day', '180day', '330day', '720day']\n",
    "plt.bar(age, height)\n",
    "add_labels(age, height)"
=======
   "execution_count": 294,
   "id": "a963680d-08e3-4eaf-b891-2726b4c0659e",
   "metadata": {},
   "outputs": [],
   "source": [
    "rpe30 = RPEDataset(30, transform=original_transform)\n",
    "rpe30_1 = RPEDataset(30, transform=cropped_transform)\n",
    "rpe30_2 = RPEDataset(30, transform=cropped_transform)\n",
    "rpe30_3 = RPEDataset(30, transform=cropped_transform)\n",
    "rpe30_4 = RPEDataset(30, transform=cropped_transform)\n",
    "rpe30_5 = RPEDataset(30, transform=cropped_transform)\n",
    "rpe30_6 = RPEDataset(30, transform=cropped_transform)\n",
    "rpe30_7 = RPEDataset(30, transform=cropped_transform)\n",
    "rpe30_8 = RPEDataset(30, transform=cropped_transform)\n",
    "rpe30_9 = RPEDataset(30, transform=cropped_transform)\n",
    "rpe30_10 = RPEDataset(30, transform=cropped_transform)\n",
    "\n",
    "rpe30set = ConcatDataset([rpe30, \n",
    "                          rpe30_1,\n",
    "                          rpe30_2,\n",
    "                          rpe30_3,\n",
    "                          rpe30_4,\n",
    "                          rpe30_5,\n",
    "                          rpe30_6,\n",
    "                          rpe30_7,\n",
    "                          rpe30_8,\n",
    "                          rpe30_9,\n",
    "                          rpe30_10])"
>>>>>>> dfc7ce3459e48bbcb0e316bb3e746f1c5c40786b
   ]
  },
  {
   "cell_type": "code",
<<<<<<< HEAD
   "execution_count": 11,
=======
   "execution_count": 295,
   "id": "6c56419e-b4f4-4819-aa6e-fd784ac73a75",
   "metadata": {},
   "outputs": [],
   "source": [
    "rpe45 = RPEDataset(45, transform=original_transform)\n",
    "rpe45_1 = RPEDataset(45, transform=cropped_transform)\n",
    "rpe45_2 = RPEDataset(45, transform=cropped_transform)\n",
    "rpe45_3 = RPEDataset(45, transform=cropped_transform)\n",
    "rpe45_4 = RPEDataset(45, transform=cropped_transform)\n",
    "\n",
    "rpe45set = ConcatDataset([rpe45,\n",
    "                          rpe45_1,\n",
    "                          rpe45_2,\n",
    "                          rpe45_3,\n",
    "                          rpe45_4])"
   ]
  },
  {
   "cell_type": "code",
   "execution_count": 296,
   "id": "ed1b94d1-9b4a-4efd-9660-851352734d53",
   "metadata": {},
   "outputs": [],
   "source": [
    "rpe60 = RPEDataset(60, transform=original_transform)\n",
    "rpe60_1 = RPEDataset(60, transform=cropped_transform)\n",
    "rpe60_2 = RPEDataset(60, transform=cropped_transform)\n",
    "rpe60_3 = RPEDataset(60, transform=cropped_transform)\n",
    "\n",
    "rpe60set = ConcatDataset([rpe60,\n",
    "                         rpe60_1,\n",
    "                         rpe60_2,\n",
    "                         rpe60_3])"
   ]
  },
  {
   "cell_type": "code",
   "execution_count": 297,
   "id": "3c2f4c76-561b-480f-957e-99a5e54cd42c",
   "metadata": {},
   "outputs": [],
   "source": [
    "rpe180set = RPEDataset(180, transform=original_transform)"
   ]
  },
  {
   "cell_type": "code",
   "execution_count": 298,
   "id": "08187a09-4ef9-4e66-bdd2-d7607f348f1b",
   "metadata": {},
   "outputs": [],
   "source": [
    "rpe330 = RPEDataset(330, transform=original_transform)\n",
    "rpe330_1 = RPEDataset(330, transform=cropped_transform)\n",
    "rpe330_2 = RPEDataset(330, transform=cropped_transform)\n",
    "\n",
    "rpe330set = ConcatDataset([rpe330,\n",
    "                           rpe330_1,\n",
    "                           rpe330_2])"
   ]
  },
  {
   "cell_type": "code",
   "execution_count": 299,
   "id": "a81b68c4-050f-4743-8b73-d69fc35b3136",
   "metadata": {},
   "outputs": [],
   "source": [
    "rpe720 = RPEDataset(720, transform=original_transform)\n",
    "rpe720_1 = RPEDataset(720, transform=cropped_transform)\n",
    "rpe720_2 = RPEDataset(720, transform=cropped_transform)\n",
    "rpe720_3 = RPEDataset(720, transform=cropped_transform)\n",
    "rpe720_4 = RPEDataset(720, transform=cropped_transform)\n",
    "rpe720_5 = RPEDataset(720, transform=cropped_transform)\n",
    "rpe720_6 = RPEDataset(720, transform=cropped_transform)\n",
    "\n",
    "rpe720set = ConcatDataset([rpe720,\n",
    "                           rpe720_1,\n",
    "                           rpe720_2,\n",
    "                           rpe720_3,\n",
    "                           rpe720_4,\n",
    "                           rpe720_5,\n",
    "                           rpe720_6])"
   ]
  },
  {
   "cell_type": "code",
   "execution_count": 300,
   "id": "3c38962e-a9d7-4eea-a4ef-2c0c26cffbe8",
   "metadata": {},
   "outputs": [],
   "source": [
    "full_dataset = ConcatDataset([rpe30set,\n",
    "                              rpe45set,\n",
    "                              rpe60set,\n",
    "                              rpe180set,\n",
    "                              rpe330set,\n",
    "                              rpe720set])"
   ]
  },
  {
   "cell_type": "code",
   "execution_count": 310,
   "id": "8ba9bfa8-29d2-4885-b8f7-4911c6da99d3",
   "metadata": {},
   "outputs": [],
   "source": [
    "train_size = int(0.8 * len(full_dataset))\n",
    "test_size = len(full_dataset) - train_size\n",
    "train_dataset, test_dataset = torch.utils.data.random_split(full_dataset, [train_size, test_size])"
   ]
  },
  {
   "cell_type": "code",
   "execution_count": 311,
   "id": "1c5a1e44-405e-4cef-aee3-3ca3c32b53b2",
   "metadata": {},
   "outputs": [],
   "source": [
    "train_loader = DataLoader(train_dataset, batch_size=64, shuffle=True)\n",
    "test_loader = DataLoader(test_dataset, batch_size=64, shuffle=False)"
   ]
  },
  {
   "cell_type": "code",
   "execution_count": 312,
   "id": "0216a6bb-67f6-41fa-8aa6-2d80fe708e96",
   "metadata": {},
   "outputs": [],
   "source": [
    "x_train = []\n",
    "y_train = []\n",
    "for data, labels in train_loader:\n",
    "    x_train.append(data.numpy())\n",
    "    y_train.append(labels.numpy())\n",
    "\n",
    "x_train = np.concatenate(x_train, axis=0)\n",
    "y_train = np.concatenate(y_train, axis=0)"
   ]
  },
  {
   "cell_type": "code",
   "execution_count": 313,
   "id": "1770d401-fd2b-4c4b-868c-ab86a796e4bc",
   "metadata": {},
   "outputs": [],
   "source": [
    "x_test = []\n",
    "y_test = []\n",
    "for data, labels in test_loader:\n",
    "    x_test.append(data.numpy())\n",
    "    y_test.append(labels.numpy())\n",
    "\n",
    "x_test = np.concatenate(x_test, axis=0)\n",
    "y_test = np.concatenate(y_test, axis=0)"
   ]
  },
  {
   "cell_type": "code",
   "execution_count": 314,
>>>>>>> dfc7ce3459e48bbcb0e316bb3e746f1c5c40786b
   "id": "3e076e9a-5d20-42ff-b383-91302d2a64fb",
   "metadata": {},
   "outputs": [],
   "source": [
    "from sklearn import svm\n",
<<<<<<< HEAD
    "from sklearn.model_selection import GridSearchCV \n",
    "\n",
    "param_grid = {'C':[0.1,1,10,100], \n",
    "              'gamma':[0.0001,0.001,0.1,1], \n",
    "              'kernel':['rbf','poly']} \n",
    "\n",
    "svc = svm.SVC(probability=True) \n",
    "\n",
    "model = GridSearchCV(svc,param_grid)"
=======
    "model=svm.SVC(C=100, gamma=0.0001)"
>>>>>>> dfc7ce3459e48bbcb0e316bb3e746f1c5c40786b
   ]
  },
  {
   "cell_type": "code",
<<<<<<< HEAD
   "execution_count": 12,
   "id": "8bab4376",
   "metadata": {},
   "outputs": [],
   "source": [
    "samples = []\n",
    "classlabels = []\n",
    "for img, label in full_dataset:\n",
    "    samples.append(img)\n",
    "    classlabels.append(label)"
   ]
  },
  {
   "cell_type": "code",
   "execution_count": 13,
   "id": "5cb36555",
   "metadata": {},
   "outputs": [],
   "source": [
    "container = []\n",
    "for sample in samples:\n",
    "    container.append(sample.detach().cpu().numpy())"
   ]
  },
  {
   "cell_type": "code",
   "execution_count": 14,
   "id": "9d20f994",
   "metadata": {},
   "outputs": [],
   "source": [
    "converted_samples = []\n",
    "for sample in container:\n",
    "    converted_samples.append(sample.reshape((3,22201)).flatten())"
   ]
  },
  {
   "cell_type": "code",
   "execution_count": null,
=======
   "execution_count": 315,
>>>>>>> dfc7ce3459e48bbcb0e316bb3e746f1c5c40786b
   "id": "36c6a215-977c-43f7-a4e9-b0fdaab0298d",
   "metadata": {},
   "outputs": [
    {
     "name": "stdout",
     "output_type": "stream",
     "text": [
<<<<<<< HEAD
      "Split Successful\n"
=======
      "Training Started\n",
      "Training Finished\n"
>>>>>>> dfc7ce3459e48bbcb0e316bb3e746f1c5c40786b
     ]
    }
   ],
   "source": [
<<<<<<< HEAD
    "from sklearn.model_selection import train_test_split\n",
    "\n",
    "x_train,x_test,y_train,y_test=train_test_split(converted_samples,classlabels, train_size=0.8, test_size=0.2, stratify=classlabels)\n",
    "print('Split Successful')\n",
    "\n",
=======
    "print('Training Started')\n",
>>>>>>> dfc7ce3459e48bbcb0e316bb3e746f1c5c40786b
    "model.fit(x_train,y_train)\n",
    "print('Training Finished')"
   ]
  },
  {
   "cell_type": "code",
<<<<<<< HEAD
   "execution_count": 98,
=======
   "execution_count": 316,
>>>>>>> dfc7ce3459e48bbcb0e316bb3e746f1c5c40786b
   "id": "df9eb1d9-d8ee-4123-9c91-ccae8f527be2",
   "metadata": {},
   "outputs": [
    {
     "name": "stdout",
     "output_type": "stream",
     "text": [
<<<<<<< HEAD
      "The model is 58.8832% accurate\n",
      "               precision    recall  f1-score   support\n",
      "\n",
      " 30_day_crops       0.65      0.65      0.65        31\n",
      " 45_day_crops       0.91      0.67      0.77        30\n",
      " 60_day_crops       0.29      0.54      0.38        35\n",
      "180_day_crops       0.74      0.74      0.74        31\n",
      "330_day_crops       0.69      0.66      0.68        38\n",
      "720_day_crops       0.82      0.28      0.42        32\n",
      "\n",
      "     accuracy                           0.59       197\n",
      "    macro avg       0.68      0.59      0.60       197\n",
      " weighted avg       0.67      0.59      0.60       197\n",
=======
      "The model is 73.0964% accurate\n",
      "               precision    recall  f1-score   support\n",
      "\n",
      " 30_day_crops       0.71      0.79      0.75        34\n",
      " 45_day_crops       0.78      0.86      0.82        21\n",
      " 60_day_crops       0.52      0.43      0.47        35\n",
      "180_day_crops       0.85      0.94      0.89        35\n",
      "330_day_crops       0.81      0.79      0.80        43\n",
      "720_day_crops       0.65      0.59      0.62        29\n",
      "\n",
      "     accuracy                           0.73       197\n",
      "    macro avg       0.72      0.73      0.72       197\n",
      " weighted avg       0.72      0.73      0.72       197\n",
>>>>>>> dfc7ce3459e48bbcb0e316bb3e746f1c5c40786b
      "\n"
     ]
    }
   ],
   "source": [
    "from sklearn.metrics import accuracy_score, classification_report\n",
    "\n",
    "\n",
    "\n",
    "y_pred=model.predict(x_test)\n",
    "print(f\"The model is {accuracy_score(y_pred,y_test)*100:.4f}% accurate\")\n",
    "print(classification_report(y_test, y_pred, target_names=age_labels, zero_division=0))"
   ]
  },
  {
   "cell_type": "code",
<<<<<<< HEAD
   "execution_count": 97,
=======
   "execution_count": null,
>>>>>>> dfc7ce3459e48bbcb0e316bb3e746f1c5c40786b
   "id": "7ba7c23d-1fa8-48da-aac1-8ce2b14ec718",
   "metadata": {
    "scrolled": true
   },
   "outputs": [
    {
     "data": {
      "text/plain": [
<<<<<<< HEAD
       "<sklearn.metrics._plot.confusion_matrix.ConfusionMatrixDisplay at 0x17b43d23090>"
      ]
     },
     "execution_count": 97,
     "metadata": {},
     "output_type": "execute_result"
    },
    {
     "data": {
      "image/png": "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",
      "text/plain": [
       "<Figure size 640x480 with 2 Axes>"
      ]
     },
     "metadata": {},
     "output_type": "display_data"
=======
       "<sklearn.metrics._plot.confusion_matrix.ConfusionMatrixDisplay at 0x25985d25b50>"
      ]
     },
     "execution_count": 319,
     "metadata": {},
     "output_type": "execute_result"
>>>>>>> dfc7ce3459e48bbcb0e316bb3e746f1c5c40786b
    }
   ],
   "source": [
    "from sklearn.metrics import confusion_matrix, ConfusionMatrixDisplay\n",
    "\n",
    "age_labels = ['30_day_crops', '45_day_crops', '60_day_crops', '180_day_crops', '330_day_crops', '720_day_crops']\n",
    "cm = confusion_matrix(y_test, y_pred)\n",
    "disp = ConfusionMatrixDisplay(cm, display_labels=age_labels)\n",
    "disp.plot(cmap='Blues', xticks_rotation=45)"
   ]
  },
  {
   "cell_type": "code",
   "execution_count": 133,
   "id": "da250f32-c8aa-4a0c-aa37-8a715a492314",
   "metadata": {},
   "outputs": [
    {
     "data": {
      "text/plain": [
       "['RPE_svm_model.pkl']"
      ]
     },
     "execution_count": 133,
     "metadata": {},
     "output_type": "execute_result"
    }
   ],
   "source": [
    "# saving a particular case of a model\n",
    "import joblib\n",
    "\n",
    "joblib.dump(model, 'RPE_svm_model.pkl')"
   ]
  },
  {
   "cell_type": "code",
   "execution_count": 134,
   "id": "6b3a9fc6-3e33-4f43-ba2c-a883c3b4ff65",
   "metadata": {},
   "outputs": [],
   "source": [
    "# loading a model via joblib\n",
    "\n",
    "rpe_svm = joblib.load('RPE_svm_model.pkl')"
   ]
  }
 ],
 "metadata": {
  "kernelspec": {
   "display_name": "Python 3 (ipykernel)",
   "language": "python",
   "name": "python3"
  },
  "language_info": {
   "codemirror_mode": {
    "name": "ipython",
    "version": 3
   },
   "file_extension": ".py",
   "mimetype": "text/x-python",
   "name": "python",
   "nbconvert_exporter": "python",
   "pygments_lexer": "ipython3",
   "version": "3.11.9"
  }
 },
 "nbformat": 4,
 "nbformat_minor": 5
}
