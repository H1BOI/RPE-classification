{
 "cells": [
  {
   "cell_type": "code",
   "execution_count": 2,
   "id": "ad322210",
   "metadata": {},
   "outputs": [],
   "source": [
    "import torch\n",
    "import torch.nn as nn\n",
    "import torch.optim as optim\n",
    "from torch.utils.data import DataLoader, ConcatDataset\n",
    "from torchvision import transforms\n",
    "import matplotlib.pyplot as plt\n",
    "from sklearn.metrics import confusion_matrix, ConfusionMatrixDisplay, accuracy_score\n",
    "from data_preprocessing import RPEDataset"
   ]
  },
  {
   "cell_type": "code",
   "execution_count": 3,
   "id": "233249de",
   "metadata": {},
   "outputs": [],
   "source": [
    "original_transform = transforms.Compose([\n",
    "    transforms.ToPILImage(),\n",
    "    transforms.Resize((149,149)),\n",
    "    transforms.ToTensor(),\n",
    "    transforms.Normalize([0.5]*3, [0.5]*3)\n",
    "])\n",
    "\n",
    "cropped_transform = transforms.Compose([\n",
    "    transforms.ToPILImage(),\n",
    "    transforms.RandomResizedCrop((149, 149)),\n",
    "    transforms.RandomHorizontalFlip(p=0.5),\n",
    "    transforms.ToTensor(),\n",
    "    transforms.Normalize([0.5]*3, [0.5]*3)\n",
    "])"
   ]
  },
  {
   "cell_type": "code",
   "execution_count": 4,
   "id": "cf2c7a3b",
   "metadata": {},
   "outputs": [],
   "source": [
    "rpe30 = RPEDataset(30, transform=original_transform)\n",
    "rpe30_1 = RPEDataset(30, transform=cropped_transform)\n",
    "rpe30_2 = RPEDataset(30, transform=cropped_transform)\n",
    "rpe30_3 = RPEDataset(30, transform=cropped_transform)\n",
    "rpe30_4 = RPEDataset(30, transform=cropped_transform)\n",
    "rpe30_5 = RPEDataset(30, transform=cropped_transform)\n",
    "rpe30_6 = RPEDataset(30, transform=cropped_transform)\n",
    "rpe30_7 = RPEDataset(30, transform=cropped_transform)\n",
    "rpe30_8 = RPEDataset(30, transform=cropped_transform)\n",
    "rpe30_9 = RPEDataset(30, transform=cropped_transform)\n",
    "rpe30_10 = RPEDataset(30, transform=cropped_transform)\n",
    "\n",
    "rpe30set = ConcatDataset([rpe30, \n",
    "                          rpe30_1,\n",
    "                          rpe30_2,\n",
    "                          rpe30_3,\n",
    "                          rpe30_4,\n",
    "                          rpe30_5,\n",
    "                          rpe30_6,\n",
    "                          rpe30_7,\n",
    "                          rpe30_8,\n",
    "                          rpe30_9,\n",
    "                          rpe30_10])"
   ]
  },
  {
   "cell_type": "code",
   "execution_count": 5,
   "id": "23728157",
   "metadata": {},
   "outputs": [],
   "source": [
    "rpe45 = RPEDataset(45, transform=original_transform)\n",
    "rpe45_1 = RPEDataset(45, transform=cropped_transform)\n",
    "rpe45_2 = RPEDataset(45, transform=cropped_transform)\n",
    "rpe45_3 = RPEDataset(45, transform=cropped_transform)\n",
    "rpe45_4 = RPEDataset(45, transform=cropped_transform)\n",
    "\n",
    "rpe45set = ConcatDataset([rpe45,\n",
    "                          rpe45_1,\n",
    "                          rpe45_2,\n",
    "                          rpe45_3,\n",
    "                          rpe45_4])"
   ]
  },
  {
   "cell_type": "code",
   "execution_count": 6,
   "id": "de446560",
   "metadata": {},
   "outputs": [],
   "source": [
    "rpe60 = RPEDataset(60, transform=original_transform)\n",
    "rpe60_1 = RPEDataset(60, transform=cropped_transform)\n",
    "rpe60_2 = RPEDataset(60, transform=cropped_transform)\n",
    "rpe60_3 = RPEDataset(60, transform=cropped_transform)\n",
    "\n",
    "rpe60set = ConcatDataset([rpe60,\n",
    "                         rpe60_1,\n",
    "                         rpe60_2,\n",
    "                         rpe60_3])"
   ]
  },
  {
   "cell_type": "code",
   "execution_count": 7,
   "id": "68925970",
   "metadata": {},
   "outputs": [],
   "source": [
    "rpe180set = RPEDataset(180, transform=original_transform)"
   ]
  },
  {
   "cell_type": "code",
   "execution_count": 8,
   "id": "825e0b12",
   "metadata": {},
   "outputs": [],
   "source": [
    "rpe330 = RPEDataset(330, transform=original_transform)\n",
    "rpe330_1 = RPEDataset(330, transform=cropped_transform)\n",
    "rpe330_2 = RPEDataset(330, transform=cropped_transform)\n",
    "\n",
    "rpe330set = ConcatDataset([rpe330,\n",
    "                           rpe330_1,\n",
    "                           rpe330_2])"
   ]
  },
  {
   "cell_type": "code",
   "execution_count": 9,
   "id": "65a1ed10",
   "metadata": {},
   "outputs": [],
   "source": [
    "rpe720 = RPEDataset(720, transform=original_transform)\n",
    "rpe720_1 = RPEDataset(720, transform=cropped_transform)\n",
    "rpe720_2 = RPEDataset(720, transform=cropped_transform)\n",
    "rpe720_3 = RPEDataset(720, transform=cropped_transform)\n",
    "rpe720_4 = RPEDataset(720, transform=cropped_transform)\n",
    "rpe720_5 = RPEDataset(720, transform=cropped_transform)\n",
    "rpe720_6 = RPEDataset(720, transform=cropped_transform)\n",
    "\n",
    "rpe720set = ConcatDataset([rpe720,\n",
    "                           rpe720_1,\n",
    "                           rpe720_2,\n",
    "                           rpe720_3,\n",
    "                           rpe720_4,\n",
    "                           rpe720_5,\n",
    "                           rpe720_6])"
   ]
  },
  {
   "cell_type": "code",
   "execution_count": 10,
   "id": "7b98e841",
   "metadata": {},
   "outputs": [],
   "source": [
    "full_dataset = ConcatDataset([rpe30set,\n",
    "                              rpe45set,\n",
    "                              rpe60set,\n",
    "                              rpe180set,\n",
    "                              rpe330set,\n",
    "                              rpe720set])"
   ]
  },
  {
   "cell_type": "code",
   "execution_count": 11,
   "id": "e5c12a13",
   "metadata": {},
   "outputs": [],
   "source": [
    "train_size = int(0.8 * len(full_dataset))\n",
    "test_size = len(full_dataset) - train_size\n",
    "train_dataset, test_dataset = torch.utils.data.random_split(full_dataset, [train_size, test_size])"
   ]
  },
  {
   "cell_type": "code",
   "execution_count": 12,
   "id": "991a6623",
   "metadata": {},
   "outputs": [],
   "source": [
    "train_loader = DataLoader(train_dataset, batch_size=32, shuffle=True)\n",
    "test_loader = DataLoader(test_dataset, batch_size=32, shuffle=False)"
   ]
  },
  {
   "cell_type": "code",
   "execution_count": 13,
   "id": "d5e9fba8",
   "metadata": {},
   "outputs": [],
   "source": [
    "class SimpleCNN(nn.Module):\n",
    "    def __init__(self):\n",
    "        super().__init__()\n",
    "        self.conv = nn.Sequential(\n",
    "            nn.Conv2d(3, 16, 3, padding=1),\n",
    "            nn.ReLU(),\n",
    "            nn.MaxPool2d(2),\n",
    "            nn.Conv2d(16, 32, 3, padding=1),\n",
    "            nn.ReLU(),\n",
    "            nn.MaxPool2d(2),\n",
    "        )\n",
    "        self.fc = nn.Sequential(\n",
    "            nn.Flatten(),\n",
    "            nn.Linear(32 * 37 * 37, 128),\n",
    "            nn.ReLU(),\n",
    "            nn.Linear(128, 6)\n",
    "        )\n",
    "\n",
    "    def forward(self, x):\n",
    "        x = self.conv(x)\n",
    "        x = self.fc(x)\n",
    "        return x"
   ]
  },
  {
   "cell_type": "code",
   "execution_count": 14,
   "id": "74520d65",
   "metadata": {},
   "outputs": [],
   "source": [
    "device = torch.device('cuda' if torch.cuda.is_available() else 'cpu')\n",
    "model = SimpleCNN().to(device)\n",
    "criterion = nn.CrossEntropyLoss()\n",
    "optimizer = optim.Adam(model.parameters(), lr=0.001)"
   ]
  },
  {
   "cell_type": "code",
   "execution_count": 15,
   "id": "74264c23",
   "metadata": {},
   "outputs": [
    {
     "name": "stdout",
     "output_type": "stream",
     "text": [
      "Epoch 1, Loss: 1.7164\n",
      "Epoch 2, Loss: 1.2498\n",
      "Epoch 3, Loss: 0.9930\n",
      "Epoch 4, Loss: 0.9249\n",
      "Epoch 5, Loss: 0.8073\n",
      "Epoch 6, Loss: 0.7340\n",
      "Epoch 7, Loss: 0.8163\n",
      "Epoch 8, Loss: 0.6651\n",
      "Epoch 9, Loss: 0.5850\n",
      "Epoch 10, Loss: 0.6522\n"
     ]
    }
   ],
   "source": [
    "for epoch in range(10):\n",
    "    model.train()\n",
    "    running_loss = 0\n",
    "    for images, labels in train_loader:\n",
    "        images, labels = images.to(device), labels.to(device)\n",
    "        outputs = model(images)\n",
    "        loss = criterion(outputs, labels)\n",
    "        optimizer.zero_grad()\n",
    "        loss.backward()\n",
    "        optimizer.step()\n",
    "        running_loss += loss.item()\n",
    "    print(f\"Epoch {epoch+1}, Loss: {running_loss / len(train_loader):.4f}\")"
   ]
  },
  {
   "cell_type": "code",
   "execution_count": 16,
   "id": "0c323809",
   "metadata": {},
   "outputs": [],
   "source": [
    "model.eval()\n",
    "y_true, y_pred = [], []\n",
    "with torch.no_grad():\n",
    "    for images, labels in test_loader:\n",
    "        images = images.to(device)\n",
    "        outputs = model(images)\n",
    "        _, predicted = torch.max(outputs, 1)\n",
    "        y_true.extend(labels.numpy())\n",
    "        y_pred.extend(predicted.cpu().numpy())"
   ]
  },
  {
   "cell_type": "code",
   "execution_count": 17,
   "id": "728c2b5d",
   "metadata": {},
   "outputs": [
    {
     "name": "stdout",
     "output_type": "stream",
     "text": [
      "\n",
      "Test Accuracy: 78.17%\n"
     ]
    },
    {
     "data": {
      "image/png": "[encoded data removed]",
      "text/plain": [
       "<Figure size 640x480 with 2 Axes>"
      ]
     },
     "metadata": {},
     "output_type": "display_data"
    }
   ],
   "source": [
    "age_labels = ['30_day_crops', '45_day_crops', '60_day_crops', '180_day_crops', '330_day_crops', '720_day_crops']\n",
    "acc = accuracy_score(y_true, y_pred)\n",
    "print(f\"\\nTest Accuracy: {acc * 100:.2f}%\")\n",
    "cm = confusion_matrix(y_true, y_pred)\n",
    "disp = ConfusionMatrixDisplay(confusion_matrix=cm, display_labels=age_labels)\n",
    "disp.plot(cmap='Blues', xticks_rotation=45)\n",
    "plt.title(\"CNN Confusion Matrix\")\n",
    "plt.tight_layout()\n",
    "plt.show()\n"
   ]
  }
 ],
 "metadata": {
  "kernelspec": {
   "display_name": "venv",
   "language": "python",
   "name": "python3"
  },
  "language_info": {
   "codemirror_mode": {
    "name": "ipython",
    "version": 3
   },
   "file_extension": ".py",
   "mimetype": "text/x-python",
   "name": "python",
   "nbconvert_exporter": "python",
   "pygments_lexer": "ipython3",
   "version": "3.11.1"
  }
 },
 "nbformat": 4,
 "nbformat_minor": 5
}
